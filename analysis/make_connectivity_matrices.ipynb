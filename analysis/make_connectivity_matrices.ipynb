{
 "cells": [
  {
   "cell_type": "markdown",
   "id": "ad78d3cf",
   "metadata": {},
   "source": [
    "Makes connectivity matrices for use in supplementary movies showing effect of resampling cell populations"
   ]
  },
  {
   "cell_type": "code",
   "execution_count": 1,
   "id": "21154393",
   "metadata": {},
   "outputs": [],
   "source": [
    "import pandas as pd\n",
    "import numpy as np\n",
    "import matplotlib.pyplot as plt\n",
    "from datetime import datetime\n",
    "import sys\n",
    "import os"
   ]
  },
  {
   "cell_type": "code",
   "execution_count": null,
   "id": "b0a86618",
   "metadata": {},
   "outputs": [],
   "source": [
    "# set location of ALVariability/\n",
    "file_path = '../../ALVariability/analysis/make_connectivity_matrices.ipynb'\n",
    "project_dir = os.path.join(file_path.split('ALVariability')[0], 'ALVariability')\n",
    "\n",
    "sys.path.append(project_dir)\n",
    "from utils.plot_utils import plot_scaled_hmap, set_font_sizes\n",
    "from utils.make_vols import adjust_glomerular_synapses_AL_block, plot_comparison_cones\n",
    "\n",
    "set_font_sizes()"
   ]
  },
  {
   "cell_type": "code",
   "execution_count": 3,
   "id": "70a03357",
   "metadata": {},
   "outputs": [],
   "source": [
    "# read in table of neurons and connectivity matrix\n",
    "df_neur_ids = pd.read_csv(os.path.join(project_dir, 'connectomics/hemibrain_v1_2/df_neur_ids.csv'), index_col=0)\n",
    "al_block = pd.read_csv(os.path.join(project_dir, 'connectomics/hemibrain_v1_2/AL_block.csv'), index_col=0)\n",
    "al_block.columns = al_block.columns.astype(np.int64)\n",
    "al_block.index = al_block.index.astype(np.int64)"
   ]
  },
  {
   "cell_type": "code",
   "execution_count": 4,
   "id": "3afc9272",
   "metadata": {},
   "outputs": [],
   "source": [
    "og_orn_order = df_neur_ids[df_neur_ids.altype == 'ORN'].bodyId.values\n",
    "og_ln_order = df_neur_ids[df_neur_ids.altype == 'LN'].bodyId.values\n",
    "og_upn_order = df_neur_ids[df_neur_ids.altype == 'uPN'].bodyId.values\n",
    "og_mpn_order = df_neur_ids[df_neur_ids.altype == 'mPN'].bodyId.values"
   ]
  },
  {
   "cell_type": "code",
   "execution_count": 5,
   "id": "fd873bd6",
   "metadata": {},
   "outputs": [],
   "source": [
    "def resample_ORNs():\n",
    "    random_ORN_sample = []\n",
    "    orn_gloms = df_neur_ORNs.glom.unique() \n",
    "    for g in orn_gloms:\n",
    "        glom_orn_bodyIds = df_neur_ORNs[df_neur_ORNs.glom == g].bodyId.values\n",
    "        random_glom_ORN_sample = np.random.choice(glom_orn_bodyIds, len(glom_orn_bodyIds), replace=True)\n",
    "        random_ORN_sample.append(random_glom_ORN_sample)\n",
    "    random_ORN_sample = np.concatenate(random_ORN_sample)\n",
    "    return random_ORN_sample\n",
    "\n",
    "def resample_LNs():\n",
    "    LN_ids = og_ln_order.copy()\n",
    "    random_LN_sample = np.random.choice(LN_ids, len(LN_ids), replace=True)\n",
    "        \n",
    "    df_neur_LNs['LN_order'] = np.arange(len(df_neur_LNs))\n",
    "    random_LN_sample_sorted_by_neurId = (df_neur_LNs\n",
    "        .set_index('bodyId')\n",
    "        .loc[random_LN_sample]\n",
    "        .sort_values('LN_order', ascending=True)\n",
    "        ).index.values\n",
    "    return random_LN_sample_sorted_by_neurId\n",
    "    \n",
    "def resample_PNs():\n",
    "    # resample within PN glomeruli to get random uPN sample\n",
    "    random_uPN_sample = []\n",
    "    pn_gloms = df_neur_PNs.glom.unique() \n",
    "    for g in pn_gloms:\n",
    "        glom_pn_bodyIds = df_neur_PNs[df_neur_PNs.glom == g].bodyId.values\n",
    "        random_glom_PN_sample = np.random.choice(glom_pn_bodyIds, len(glom_pn_bodyIds), replace=True)\n",
    "        random_uPN_sample.append(random_glom_PN_sample)\n",
    "    final_upn_order = np.concatenate(random_uPN_sample)\n",
    "    \n",
    "    mpn_bodyIds = df_neur_PNs[df_neur_PNs.altype == 'mPN'].bodyId.values\n",
    "    final_mpn_order = np.random.choice(mpn_bodyIds, len(mpn_bodyIds), replace=True)\n",
    "    # concatenate\n",
    "    final_PN_ids = np.concatenate((final_upn_order, final_mpn_order))\n",
    "    return final_upn_order, final_mpn_order"
   ]
  },
  {
   "cell_type": "code",
   "execution_count": 6,
   "id": "be22dad7",
   "metadata": {},
   "outputs": [],
   "source": [
    "# set save directory\n",
    "\n",
    "# get time tag\n",
    "n = datetime.now()\n",
    "day_tag = '{}_{}_{}'.format(n.year, n.month, n.day)\n",
    "\n",
    "plot_dir = 'connectivity_matrices_' + day_tag + '/'\n",
    "# make directory if doesn't exist already\n",
    "if not os.path.isdir(plot_dir):\n",
    "    os.makedirs(plot_dir)"
   ]
  },
  {
   "cell_type": "code",
   "execution_count": 9,
   "id": "51cf3a1f",
   "metadata": {},
   "outputs": [],
   "source": [
    "# number of matrices to include per set\n",
    "# (to be used later in gif)\n",
    "n_mats = 10\n",
    "\n",
    "# specify which schemes of variation to include\n",
    "# columns: ORN resampling, LN resampling, PN resampling, PN synapse density\n",
    "# i.e. [1, 0, 0, 0] resamples ORNs only\n",
    "# and [1, 1, 1, 0] resamples ORNs, LNs, PNs, but no PN synapse density variation\n",
    "member_array = np.array([\n",
    "         [1, 0, 0, 0], \n",
    "         [0, 1, 0, 0],\n",
    "         [0, 0, 1, 0],\n",
    "         [0, 0, 0, 1],\n",
    "         [1, 1, 1, 0],\n",
    "         [1, 1, 1, 1]]).T\n",
    "\n",
    "member_array = np.repeat(member_array, n_mats, 1).T"
   ]
  },
  {
   "cell_type": "code",
   "execution_count": 11,
   "id": "9e4471a6",
   "metadata": {},
   "outputs": [
    {
     "name": "stdout",
     "output_type": "stream",
     "text": [
      "resample_ORN_conmat_0\n"
     ]
    },
    {
     "name": "stderr",
     "output_type": "stream",
     "text": [
      "../../ALVariability\\utils\\plot_utils.py:63: RuntimeWarning: divide by zero encountered in log10\n",
      "  sns.heatmap(np.log10(mat), ax=ax,\n"
     ]
    },
    {
     "name": "stdout",
     "output_type": "stream",
     "text": [
      "resample_ORN_conmat_1\n",
      "resample_ORN_conmat_2\n",
      "resample_ORN_conmat_3\n",
      "resample_ORN_conmat_4\n",
      "resample_ORN_conmat_5\n",
      "resample_ORN_conmat_6\n",
      "resample_ORN_conmat_7\n",
      "resample_ORN_conmat_8\n",
      "resample_ORN_conmat_9\n",
      "resample_LN_conmat_10\n",
      "resample_LN_conmat_11\n",
      "resample_LN_conmat_12\n",
      "resample_LN_conmat_13\n",
      "resample_LN_conmat_14\n",
      "resample_LN_conmat_15\n",
      "resample_LN_conmat_16\n",
      "resample_LN_conmat_17\n",
      "resample_LN_conmat_18\n",
      "resample_LN_conmat_19\n",
      "resample_PN_conmat_20\n",
      "resample_PN_conmat_21\n",
      "resample_PN_conmat_22\n",
      "resample_PN_conmat_23\n",
      "resample_PN_conmat_24\n",
      "resample_PN_conmat_25\n",
      "resample_PN_conmat_26\n",
      "resample_PN_conmat_27\n",
      "resample_PN_conmat_28\n",
      "resample_PN_conmat_29\n",
      "resample_PN_densityconmat_30\n",
      "resample_PN_densityconmat_31\n",
      "resample_PN_densityconmat_32\n",
      "resample_PN_densityconmat_33\n",
      "resample_PN_densityconmat_34\n",
      "resample_PN_densityconmat_35\n",
      "resample_PN_densityconmat_36\n",
      "resample_PN_densityconmat_37\n",
      "resample_PN_densityconmat_38\n",
      "resample_PN_densityconmat_39\n",
      "resample_ORN_LN_PN_conmat_40\n",
      "resample_ORN_LN_PN_conmat_41\n",
      "resample_ORN_LN_PN_conmat_42\n",
      "resample_ORN_LN_PN_conmat_43\n",
      "resample_ORN_LN_PN_conmat_44\n"
     ]
    },
    {
     "ename": "MemoryError",
     "evalue": "Unable to allocate 24.6 MiB for an array with shape (25745476,) and data type bool",
     "output_type": "error",
     "traceback": [
      "\u001b[1;31m---------------------------------------------------------------------------\u001b[0m",
      "\u001b[1;31mMemoryError\u001b[0m                               Traceback (most recent call last)",
      "\u001b[1;32m<ipython-input-11-b6a49c73427f>\u001b[0m in \u001b[0;36m<module>\u001b[1;34m\u001b[0m\n\u001b[0;32m     50\u001b[0m                      \u001b[0mneur_sets\u001b[0m \u001b[1;33m=\u001b[0m \u001b[1;33m[\u001b[0m\u001b[0mfinal_ORN_ids\u001b[0m\u001b[1;33m,\u001b[0m \u001b[0mfinal_LN_ids\u001b[0m\u001b[1;33m,\u001b[0m \u001b[0mfinal_upn_order\u001b[0m\u001b[1;33m,\u001b[0m \u001b[0mfinal_mpn_order\u001b[0m\u001b[1;33m]\u001b[0m\u001b[1;33m,\u001b[0m\u001b[1;33m\u001b[0m\u001b[1;33m\u001b[0m\u001b[0m\n\u001b[0;32m     51\u001b[0m                      \u001b[0mneur_set_names\u001b[0m \u001b[1;33m=\u001b[0m \u001b[1;33m[\u001b[0m\u001b[1;34m'ORN'\u001b[0m\u001b[1;33m,\u001b[0m \u001b[1;34m'LN'\u001b[0m\u001b[1;33m,\u001b[0m \u001b[1;34m'uPN'\u001b[0m\u001b[1;33m,\u001b[0m \u001b[1;34m'mPN'\u001b[0m\u001b[1;33m]\u001b[0m\u001b[1;33m,\u001b[0m\u001b[1;33m\u001b[0m\u001b[1;33m\u001b[0m\u001b[0m\n\u001b[1;32m---> 52\u001b[1;33m                      cmap='plasma_r')\n\u001b[0m\u001b[0;32m     53\u001b[0m     plt.savefig(os.path.join(plot_dir, savetag + '.png'), \n\u001b[0;32m     54\u001b[0m                 \u001b[1;31m#dpi=400, bbox_inches='tight')\u001b[0m\u001b[1;33m\u001b[0m\u001b[1;33m\u001b[0m\u001b[1;33m\u001b[0m\u001b[0m\n",
      "\u001b[1;32m~\\deBivort\\projects\\ALVariability\\utils\\plot_utils.py\u001b[0m in \u001b[0;36mplot_scaled_hmap\u001b[1;34m(fig, conmat, neur_sets, neur_set_names, cmap)\u001b[0m\n\u001b[0;32m     95\u001b[0m             \u001b[0max\u001b[0m \u001b[1;33m=\u001b[0m \u001b[0mfig\u001b[0m\u001b[1;33m.\u001b[0m\u001b[0madd_subplot\u001b[0m\u001b[1;33m(\u001b[0m\u001b[0mgs\u001b[0m\u001b[1;33m[\u001b[0m\u001b[0mi\u001b[0m\u001b[1;33m,\u001b[0m \u001b[0mj\u001b[0m\u001b[1;33m]\u001b[0m\u001b[1;33m)\u001b[0m\u001b[1;33m\u001b[0m\u001b[1;33m\u001b[0m\u001b[0m\n\u001b[0;32m     96\u001b[0m             \u001b[0mmat\u001b[0m \u001b[1;33m=\u001b[0m \u001b[0mconmat\u001b[0m\u001b[1;33m.\u001b[0m\u001b[0mloc\u001b[0m\u001b[1;33m[\u001b[0m\u001b[0mneur_sets\u001b[0m\u001b[1;33m[\u001b[0m\u001b[0mi\u001b[0m\u001b[1;33m]\u001b[0m\u001b[1;33m,\u001b[0m \u001b[0mneur_sets\u001b[0m\u001b[1;33m[\u001b[0m\u001b[0mj\u001b[0m\u001b[1;33m]\u001b[0m\u001b[1;33m]\u001b[0m\u001b[1;33m\u001b[0m\u001b[1;33m\u001b[0m\u001b[0m\n\u001b[1;32m---> 97\u001b[1;33m             \u001b[0mplot_mat\u001b[0m\u001b[1;33m(\u001b[0m\u001b[0mmat\u001b[0m\u001b[1;33m,\u001b[0m \u001b[0max\u001b[0m\u001b[1;33m,\u001b[0m \u001b[0mcbar_ax\u001b[0m\u001b[1;33m,\u001b[0m \u001b[0mcmap\u001b[0m\u001b[1;33m=\u001b[0m\u001b[0mcmap\u001b[0m\u001b[1;33m)\u001b[0m\u001b[1;33m\u001b[0m\u001b[1;33m\u001b[0m\u001b[0m\n\u001b[0m\u001b[0;32m     98\u001b[0m \u001b[1;33m\u001b[0m\u001b[0m\n\u001b[0;32m     99\u001b[0m             \u001b[1;31m# remove tick labels\u001b[0m\u001b[1;33m\u001b[0m\u001b[1;33m\u001b[0m\u001b[1;33m\u001b[0m\u001b[0m\n",
      "\u001b[1;32m~\\deBivort\\projects\\ALVariability\\utils\\plot_utils.py\u001b[0m in \u001b[0;36mplot_mat\u001b[1;34m(mat, ax, cbar_ax, cmap)\u001b[0m\n\u001b[0;32m     65\u001b[0m                 \u001b[0mvmin\u001b[0m\u001b[1;33m=\u001b[0m\u001b[1;36m0\u001b[0m\u001b[1;33m,\u001b[0m \u001b[0mvmax\u001b[0m\u001b[1;33m=\u001b[0m\u001b[1;36m3\u001b[0m\u001b[1;33m,\u001b[0m\u001b[1;33m\u001b[0m\u001b[1;33m\u001b[0m\u001b[0m\n\u001b[0;32m     66\u001b[0m                 \u001b[0mcbar_kws\u001b[0m\u001b[1;33m=\u001b[0m\u001b[1;33m{\u001b[0m\u001b[1;34m'label'\u001b[0m\u001b[1;33m:\u001b[0m \u001b[1;34mr'$\\log_{10}$ # synapses'\u001b[0m\u001b[1;33m}\u001b[0m\u001b[1;33m,\u001b[0m\u001b[1;33m\u001b[0m\u001b[1;33m\u001b[0m\u001b[0m\n\u001b[1;32m---> 67\u001b[1;33m                 cbar_ax=cbar_ax)\n\u001b[0m\u001b[0;32m     68\u001b[0m \u001b[1;33m\u001b[0m\u001b[0m\n\u001b[0;32m     69\u001b[0m \u001b[1;32mdef\u001b[0m \u001b[0mplot_scaled_hmap\u001b[0m\u001b[1;33m(\u001b[0m\u001b[0mfig\u001b[0m\u001b[1;33m,\u001b[0m \u001b[0mconmat\u001b[0m\u001b[1;33m,\u001b[0m \u001b[0mneur_sets\u001b[0m\u001b[1;33m,\u001b[0m \u001b[0mneur_set_names\u001b[0m\u001b[1;33m,\u001b[0m \u001b[0mcmap\u001b[0m\u001b[1;33m=\u001b[0m\u001b[1;34m'jet'\u001b[0m\u001b[1;33m)\u001b[0m\u001b[1;33m:\u001b[0m\u001b[1;33m\u001b[0m\u001b[1;33m\u001b[0m\u001b[0m\n",
      "\u001b[1;32m~\\Anaconda3\\envs\\ALVar\\lib\\site-packages\\seaborn\\_decorators.py\u001b[0m in \u001b[0;36minner_f\u001b[1;34m(*args, **kwargs)\u001b[0m\n\u001b[0;32m     44\u001b[0m             )\n\u001b[0;32m     45\u001b[0m         \u001b[0mkwargs\u001b[0m\u001b[1;33m.\u001b[0m\u001b[0mupdate\u001b[0m\u001b[1;33m(\u001b[0m\u001b[1;33m{\u001b[0m\u001b[0mk\u001b[0m\u001b[1;33m:\u001b[0m \u001b[0marg\u001b[0m \u001b[1;32mfor\u001b[0m \u001b[0mk\u001b[0m\u001b[1;33m,\u001b[0m \u001b[0marg\u001b[0m \u001b[1;32min\u001b[0m \u001b[0mzip\u001b[0m\u001b[1;33m(\u001b[0m\u001b[0msig\u001b[0m\u001b[1;33m.\u001b[0m\u001b[0mparameters\u001b[0m\u001b[1;33m,\u001b[0m \u001b[0margs\u001b[0m\u001b[1;33m)\u001b[0m\u001b[1;33m}\u001b[0m\u001b[1;33m)\u001b[0m\u001b[1;33m\u001b[0m\u001b[1;33m\u001b[0m\u001b[0m\n\u001b[1;32m---> 46\u001b[1;33m         \u001b[1;32mreturn\u001b[0m \u001b[0mf\u001b[0m\u001b[1;33m(\u001b[0m\u001b[1;33m**\u001b[0m\u001b[0mkwargs\u001b[0m\u001b[1;33m)\u001b[0m\u001b[1;33m\u001b[0m\u001b[1;33m\u001b[0m\u001b[0m\n\u001b[0m\u001b[0;32m     47\u001b[0m     \u001b[1;32mreturn\u001b[0m \u001b[0minner_f\u001b[0m\u001b[1;33m\u001b[0m\u001b[1;33m\u001b[0m\u001b[0m\n\u001b[0;32m     48\u001b[0m \u001b[1;33m\u001b[0m\u001b[0m\n",
      "\u001b[1;32m~\\Anaconda3\\envs\\ALVar\\lib\\site-packages\\seaborn\\matrix.py\u001b[0m in \u001b[0;36mheatmap\u001b[1;34m(data, vmin, vmax, cmap, center, robust, annot, fmt, annot_kws, linewidths, linecolor, cbar, cbar_kws, cbar_ax, square, xticklabels, yticklabels, mask, ax, **kwargs)\u001b[0m\n\u001b[0;32m    546\u001b[0m     \u001b[1;32mif\u001b[0m \u001b[0msquare\u001b[0m\u001b[1;33m:\u001b[0m\u001b[1;33m\u001b[0m\u001b[1;33m\u001b[0m\u001b[0m\n\u001b[0;32m    547\u001b[0m         \u001b[0max\u001b[0m\u001b[1;33m.\u001b[0m\u001b[0mset_aspect\u001b[0m\u001b[1;33m(\u001b[0m\u001b[1;34m\"equal\"\u001b[0m\u001b[1;33m)\u001b[0m\u001b[1;33m\u001b[0m\u001b[1;33m\u001b[0m\u001b[0m\n\u001b[1;32m--> 548\u001b[1;33m     \u001b[0mplotter\u001b[0m\u001b[1;33m.\u001b[0m\u001b[0mplot\u001b[0m\u001b[1;33m(\u001b[0m\u001b[0max\u001b[0m\u001b[1;33m,\u001b[0m \u001b[0mcbar_ax\u001b[0m\u001b[1;33m,\u001b[0m \u001b[0mkwargs\u001b[0m\u001b[1;33m)\u001b[0m\u001b[1;33m\u001b[0m\u001b[1;33m\u001b[0m\u001b[0m\n\u001b[0m\u001b[0;32m    549\u001b[0m     \u001b[1;32mreturn\u001b[0m \u001b[0max\u001b[0m\u001b[1;33m\u001b[0m\u001b[1;33m\u001b[0m\u001b[0m\n\u001b[0;32m    550\u001b[0m \u001b[1;33m\u001b[0m\u001b[0m\n",
      "\u001b[1;32m~\\Anaconda3\\envs\\ALVar\\lib\\site-packages\\seaborn\\matrix.py\u001b[0m in \u001b[0;36mplot\u001b[1;34m(self, ax, cax, kws)\u001b[0m\n\u001b[0;32m    296\u001b[0m \u001b[1;33m\u001b[0m\u001b[0m\n\u001b[0;32m    297\u001b[0m         \u001b[1;31m# Draw the heatmap\u001b[0m\u001b[1;33m\u001b[0m\u001b[1;33m\u001b[0m\u001b[1;33m\u001b[0m\u001b[0m\n\u001b[1;32m--> 298\u001b[1;33m         \u001b[0mmesh\u001b[0m \u001b[1;33m=\u001b[0m \u001b[0max\u001b[0m\u001b[1;33m.\u001b[0m\u001b[0mpcolormesh\u001b[0m\u001b[1;33m(\u001b[0m\u001b[0mself\u001b[0m\u001b[1;33m.\u001b[0m\u001b[0mplot_data\u001b[0m\u001b[1;33m,\u001b[0m \u001b[0mcmap\u001b[0m\u001b[1;33m=\u001b[0m\u001b[0mself\u001b[0m\u001b[1;33m.\u001b[0m\u001b[0mcmap\u001b[0m\u001b[1;33m,\u001b[0m \u001b[1;33m**\u001b[0m\u001b[0mkws\u001b[0m\u001b[1;33m)\u001b[0m\u001b[1;33m\u001b[0m\u001b[1;33m\u001b[0m\u001b[0m\n\u001b[0m\u001b[0;32m    299\u001b[0m \u001b[1;33m\u001b[0m\u001b[0m\n\u001b[0;32m    300\u001b[0m         \u001b[1;31m# Set the axis limits\u001b[0m\u001b[1;33m\u001b[0m\u001b[1;33m\u001b[0m\u001b[1;33m\u001b[0m\u001b[0m\n",
      "\u001b[1;32m~\\Anaconda3\\envs\\ALVar\\lib\\site-packages\\matplotlib\\__init__.py\u001b[0m in \u001b[0;36minner\u001b[1;34m(ax, data, *args, **kwargs)\u001b[0m\n\u001b[0;32m   1445\u001b[0m     \u001b[1;32mdef\u001b[0m \u001b[0minner\u001b[0m\u001b[1;33m(\u001b[0m\u001b[0max\u001b[0m\u001b[1;33m,\u001b[0m \u001b[1;33m*\u001b[0m\u001b[0margs\u001b[0m\u001b[1;33m,\u001b[0m \u001b[0mdata\u001b[0m\u001b[1;33m=\u001b[0m\u001b[1;32mNone\u001b[0m\u001b[1;33m,\u001b[0m \u001b[1;33m**\u001b[0m\u001b[0mkwargs\u001b[0m\u001b[1;33m)\u001b[0m\u001b[1;33m:\u001b[0m\u001b[1;33m\u001b[0m\u001b[1;33m\u001b[0m\u001b[0m\n\u001b[0;32m   1446\u001b[0m         \u001b[1;32mif\u001b[0m \u001b[0mdata\u001b[0m \u001b[1;32mis\u001b[0m \u001b[1;32mNone\u001b[0m\u001b[1;33m:\u001b[0m\u001b[1;33m\u001b[0m\u001b[1;33m\u001b[0m\u001b[0m\n\u001b[1;32m-> 1447\u001b[1;33m             \u001b[1;32mreturn\u001b[0m \u001b[0mfunc\u001b[0m\u001b[1;33m(\u001b[0m\u001b[0max\u001b[0m\u001b[1;33m,\u001b[0m \u001b[1;33m*\u001b[0m\u001b[0mmap\u001b[0m\u001b[1;33m(\u001b[0m\u001b[0msanitize_sequence\u001b[0m\u001b[1;33m,\u001b[0m \u001b[0margs\u001b[0m\u001b[1;33m)\u001b[0m\u001b[1;33m,\u001b[0m \u001b[1;33m**\u001b[0m\u001b[0mkwargs\u001b[0m\u001b[1;33m)\u001b[0m\u001b[1;33m\u001b[0m\u001b[1;33m\u001b[0m\u001b[0m\n\u001b[0m\u001b[0;32m   1448\u001b[0m \u001b[1;33m\u001b[0m\u001b[0m\n\u001b[0;32m   1449\u001b[0m         \u001b[0mbound\u001b[0m \u001b[1;33m=\u001b[0m \u001b[0mnew_sig\u001b[0m\u001b[1;33m.\u001b[0m\u001b[0mbind\u001b[0m\u001b[1;33m(\u001b[0m\u001b[0max\u001b[0m\u001b[1;33m,\u001b[0m \u001b[1;33m*\u001b[0m\u001b[0margs\u001b[0m\u001b[1;33m,\u001b[0m \u001b[1;33m**\u001b[0m\u001b[0mkwargs\u001b[0m\u001b[1;33m)\u001b[0m\u001b[1;33m\u001b[0m\u001b[1;33m\u001b[0m\u001b[0m\n",
      "\u001b[1;32m~\\Anaconda3\\envs\\ALVar\\lib\\site-packages\\matplotlib\\axes\\_axes.py\u001b[0m in \u001b[0;36mpcolormesh\u001b[1;34m(self, alpha, norm, cmap, vmin, vmax, shading, antialiased, *args, **kwargs)\u001b[0m\n\u001b[0;32m   6097\u001b[0m \u001b[1;33m\u001b[0m\u001b[0m\n\u001b[0;32m   6098\u001b[0m         \u001b[1;31m# convert to one dimensional arrays\u001b[0m\u001b[1;33m\u001b[0m\u001b[1;33m\u001b[0m\u001b[1;33m\u001b[0m\u001b[0m\n\u001b[1;32m-> 6099\u001b[1;33m         \u001b[0mC\u001b[0m \u001b[1;33m=\u001b[0m \u001b[0mC\u001b[0m\u001b[1;33m.\u001b[0m\u001b[0mravel\u001b[0m\u001b[1;33m(\u001b[0m\u001b[1;33m)\u001b[0m\u001b[1;33m\u001b[0m\u001b[1;33m\u001b[0m\u001b[0m\n\u001b[0m\u001b[0;32m   6100\u001b[0m         \u001b[0mcoords\u001b[0m \u001b[1;33m=\u001b[0m \u001b[0mnp\u001b[0m\u001b[1;33m.\u001b[0m\u001b[0mcolumn_stack\u001b[0m\u001b[1;33m(\u001b[0m\u001b[1;33m(\u001b[0m\u001b[0mX\u001b[0m\u001b[1;33m,\u001b[0m \u001b[0mY\u001b[0m\u001b[1;33m)\u001b[0m\u001b[1;33m)\u001b[0m\u001b[1;33m.\u001b[0m\u001b[0mastype\u001b[0m\u001b[1;33m(\u001b[0m\u001b[0mfloat\u001b[0m\u001b[1;33m,\u001b[0m \u001b[0mcopy\u001b[0m\u001b[1;33m=\u001b[0m\u001b[1;32mFalse\u001b[0m\u001b[1;33m)\u001b[0m\u001b[1;33m\u001b[0m\u001b[1;33m\u001b[0m\u001b[0m\n\u001b[0;32m   6101\u001b[0m         collection = mcoll.QuadMesh(Nx - 1, Ny - 1, coords,\n",
      "\u001b[1;32m~\\Anaconda3\\envs\\ALVar\\lib\\site-packages\\numpy\\ma\\core.py\u001b[0m in \u001b[0;36mravel\u001b[1;34m(self, order)\u001b[0m\n\u001b[0;32m   4585\u001b[0m         \u001b[0mr\u001b[0m\u001b[1;33m.\u001b[0m\u001b[0m_update_from\u001b[0m\u001b[1;33m(\u001b[0m\u001b[0mself\u001b[0m\u001b[1;33m)\u001b[0m\u001b[1;33m\u001b[0m\u001b[1;33m\u001b[0m\u001b[0m\n\u001b[0;32m   4586\u001b[0m         \u001b[1;32mif\u001b[0m \u001b[0mself\u001b[0m\u001b[1;33m.\u001b[0m\u001b[0m_mask\u001b[0m \u001b[1;32mis\u001b[0m \u001b[1;32mnot\u001b[0m \u001b[0mnomask\u001b[0m\u001b[1;33m:\u001b[0m\u001b[1;33m\u001b[0m\u001b[1;33m\u001b[0m\u001b[0m\n\u001b[1;32m-> 4587\u001b[1;33m             \u001b[0mr\u001b[0m\u001b[1;33m.\u001b[0m\u001b[0m_mask\u001b[0m \u001b[1;33m=\u001b[0m \u001b[0mndarray\u001b[0m\u001b[1;33m.\u001b[0m\u001b[0mravel\u001b[0m\u001b[1;33m(\u001b[0m\u001b[0mself\u001b[0m\u001b[1;33m.\u001b[0m\u001b[0m_mask\u001b[0m\u001b[1;33m,\u001b[0m \u001b[0morder\u001b[0m\u001b[1;33m=\u001b[0m\u001b[0morder\u001b[0m\u001b[1;33m)\u001b[0m\u001b[1;33m.\u001b[0m\u001b[0mreshape\u001b[0m\u001b[1;33m(\u001b[0m\u001b[0mr\u001b[0m\u001b[1;33m.\u001b[0m\u001b[0mshape\u001b[0m\u001b[1;33m)\u001b[0m\u001b[1;33m\u001b[0m\u001b[1;33m\u001b[0m\u001b[0m\n\u001b[0m\u001b[0;32m   4588\u001b[0m         \u001b[1;32melse\u001b[0m\u001b[1;33m:\u001b[0m\u001b[1;33m\u001b[0m\u001b[1;33m\u001b[0m\u001b[0m\n\u001b[0;32m   4589\u001b[0m             \u001b[0mr\u001b[0m\u001b[1;33m.\u001b[0m\u001b[0m_mask\u001b[0m \u001b[1;33m=\u001b[0m \u001b[0mnomask\u001b[0m\u001b[1;33m\u001b[0m\u001b[1;33m\u001b[0m\u001b[0m\n",
      "\u001b[1;31mMemoryError\u001b[0m: Unable to allocate 24.6 MiB for an array with shape (25745476,) and data type bool"
     ]
    },
    {
     "data": {
      "image/png": "[encoded data removed]",
      "text/plain": [
       "<Figure size 936x936 with 2 Axes>"
      ]
     },
     "metadata": {
      "needs_background": "light"
     },
     "output_type": "display_data"
    }
   ],
   "source": [
    "df_neur_ORNs = df_neur_ids.copy()[df_neur_ids.altype == 'ORN']\n",
    "df_neur_LNs = df_neur_ids.copy()[df_neur_ids.altype == 'LN']\n",
    "df_neur_PNs = df_neur_ids.copy()[df_neur_ids.altype.isin(['uPN', 'mPN'])]\n",
    "\n",
    "for im in range(member_array.shape[0]):\n",
    "    # specify what operations to do on the connectivity matrix\n",
    "    cur_row = member_array[im]\n",
    "    RESAMPLE_ORNs, RESAMPLE_LNs, RESAMPLE_PNs, ADJUST_PN_INPUTS = cur_row\n",
    "    \n",
    "    # get original ordering/IDs of all cell types\n",
    "    final_ORN_ids = df_neur_ORNs.bodyId.values\n",
    "    final_LN_ids = df_neur_LNs.bodyId.values\n",
    "    final_upn_order = og_upn_order.copy()\n",
    "    final_mpn_order = og_mpn_order.copy()\n",
    "    final_PN_ids = np.concatenate((final_upn_order, final_mpn_order))\n",
    "    \n",
    "    savetag = 'resample_'\n",
    "    \n",
    "    # do resampling\n",
    "    if RESAMPLE_ORNs:\n",
    "        final_ORN_ids = resample_ORNs()\n",
    "        savetag += 'ORN_'\n",
    "    if RESAMPLE_LNs:\n",
    "        final_LN_ids = resample_LNs()\n",
    "        savetag += 'LN_'\n",
    "    if RESAMPLE_PNs:\n",
    "        final_upn_order, final_mpn_order = resample_PNs()\n",
    "        savetag += 'PN_'\n",
    "            \n",
    "    # get final bodyIds as a result of resampling\n",
    "    final_bodyIds = np.concatenate((final_ORN_ids, final_LN_ids, final_upn_order, final_mpn_order))\n",
    "    df_neur_ids_resampled = df_neur_ids.set_index('bodyId').loc[final_bodyIds].reset_index()[df_neur_ids.columns]\n",
    "\n",
    "    # and, reorder al_block\n",
    "    al_block.columns = al_block.columns.astype(np.int64)\n",
    "    al_block_resampled = al_block.copy().loc[final_bodyIds, final_bodyIds]\n",
    "\n",
    "    # add PN synapse density variation if desired\n",
    "    if ADJUST_PN_INPUTS:\n",
    "        al_block_resampled = adjust_glomerular_synapses_AL_block(df_neur_ids_resampled, al_block_resampled)\n",
    "        savetag += 'PN_density'\n",
    "    \n",
    "    savetag += 'conmat_' + '{}'.format(im)\n",
    "    print(savetag)\n",
    "    \n",
    "    # plot   \n",
    "    fig = plt.figure(figsize=(13,13))\n",
    "    plot_scaled_hmap(fig=fig,\n",
    "                     conmat = al_block_resampled,\n",
    "                     neur_sets = [final_ORN_ids, final_LN_ids, final_upn_order, final_mpn_order],\n",
    "                     neur_set_names = ['ORN', 'LN', 'uPN', 'mPN'],\n",
    "                     cmap='plasma_r')\n",
    "    plt.savefig(os.path.join(plot_dir, savetag + '.png'), \n",
    "                #dpi=400, bbox_inches='tight')\n",
    "                dpi=40, bbox_inches='tight')\n",
    "    plt.close()"
   ]
  }
 ],
 "metadata": {
  "kernelspec": {
   "display_name": "Python 3",
   "language": "python",
   "name": "python3"
  }
 },
 "nbformat": 4,
 "nbformat_minor": 5
}
